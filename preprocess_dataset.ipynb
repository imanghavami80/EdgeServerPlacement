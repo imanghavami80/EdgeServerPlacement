{
 "cells": [
  {
   "cell_type": "code",
   "execution_count": 1,
   "metadata": {},
   "outputs": [],
   "source": [
    "import os\n",
    "import pandas as pd"
   ]
  },
  {
   "cell_type": "markdown",
   "metadata": {},
   "source": [
    "## Read Data"
   ]
  },
  {
   "cell_type": "code",
   "execution_count": 2,
   "metadata": {},
   "outputs": [],
   "source": [
    "files_dir = './dataset/raw'\n",
    "file_names = os.listdir(files_dir)\n",
    "file_paths = [os.path.join(files_dir, fname) for fname in file_names]"
   ]
  },
  {
   "cell_type": "code",
   "execution_count": 3,
   "metadata": {},
   "outputs": [],
   "source": [
    "pd_records_list = []\n",
    "\n",
    "for fpath in file_paths:\n",
    "    pd_record = pd.read_excel(fpath)\n",
    "    pd_records_list.append(pd_record)"
   ]
  },
  {
   "cell_type": "code",
   "execution_count": 4,
   "metadata": {},
   "outputs": [],
   "source": [
    "pd_record = pd.concat(pd_records_list)"
   ]
  },
  {
   "cell_type": "markdown",
   "metadata": {},
   "source": [
    "## Data Analysis"
   ]
  },
  {
   "cell_type": "code",
   "execution_count": 5,
   "metadata": {},
   "outputs": [
    {
     "data": {
      "text/html": [
       "<div>\n",
       "<style scoped>\n",
       "    .dataframe tbody tr th:only-of-type {\n",
       "        vertical-align: middle;\n",
       "    }\n",
       "\n",
       "    .dataframe tbody tr th {\n",
       "        vertical-align: top;\n",
       "    }\n",
       "\n",
       "    .dataframe thead th {\n",
       "        text-align: right;\n",
       "    }\n",
       "</style>\n",
       "<table border=\"1\" class=\"dataframe\">\n",
       "  <thead>\n",
       "    <tr style=\"text-align: right;\">\n",
       "      <th></th>\n",
       "      <th>month</th>\n",
       "      <th>date</th>\n",
       "      <th>start time</th>\n",
       "      <th>end time</th>\n",
       "      <th>latitude</th>\n",
       "      <th>longitude</th>\n",
       "      <th>user id</th>\n",
       "    </tr>\n",
       "  </thead>\n",
       "  <tbody>\n",
       "    <tr>\n",
       "      <th>0</th>\n",
       "      <td>201410</td>\n",
       "      <td>1</td>\n",
       "      <td>2014-10-01 13:30:00</td>\n",
       "      <td>2014-10-01 13:40:11</td>\n",
       "      <td>NaN</td>\n",
       "      <td>NaN</td>\n",
       "      <td>c25cda01110b1879b78af0281fa93704</td>\n",
       "    </tr>\n",
       "    <tr>\n",
       "      <th>1</th>\n",
       "      <td>201410</td>\n",
       "      <td>1</td>\n",
       "      <td>2014-10-01 09:22:09</td>\n",
       "      <td>2014-10-01 12:20:24</td>\n",
       "      <td>NaN</td>\n",
       "      <td>NaN</td>\n",
       "      <td>1f36736faf2ad3362b1803ddf9552646</td>\n",
       "    </tr>\n",
       "    <tr>\n",
       "      <th>2</th>\n",
       "      <td>201410</td>\n",
       "      <td>1</td>\n",
       "      <td>2014-10-01 17:35:07</td>\n",
       "      <td>2014-10-01 17:35:47</td>\n",
       "      <td>NaN</td>\n",
       "      <td>NaN</td>\n",
       "      <td>c25cda01110b1879b78af0281fa93704</td>\n",
       "    </tr>\n",
       "    <tr>\n",
       "      <th>3</th>\n",
       "      <td>201410</td>\n",
       "      <td>1</td>\n",
       "      <td>2014-10-01 14:07:43</td>\n",
       "      <td>2014-10-01 17:00:35</td>\n",
       "      <td>NaN</td>\n",
       "      <td>NaN</td>\n",
       "      <td>c25cda01110b1879b78af0281fa93704</td>\n",
       "    </tr>\n",
       "    <tr>\n",
       "      <th>4</th>\n",
       "      <td>201410</td>\n",
       "      <td>1</td>\n",
       "      <td>2014-10-01 17:10:14</td>\n",
       "      <td>2014-10-01 17:20:27</td>\n",
       "      <td>NaN</td>\n",
       "      <td>NaN</td>\n",
       "      <td>c25cda01110b1879b78af0281fa93704</td>\n",
       "    </tr>\n",
       "    <tr>\n",
       "      <th>...</th>\n",
       "      <td>...</td>\n",
       "      <td>...</td>\n",
       "      <td>...</td>\n",
       "      <td>...</td>\n",
       "      <td>...</td>\n",
       "      <td>...</td>\n",
       "      <td>...</td>\n",
       "    </tr>\n",
       "    <tr>\n",
       "      <th>562774</th>\n",
       "      <td>201409</td>\n",
       "      <td>15</td>\n",
       "      <td>2014-09-15 09:42:44</td>\n",
       "      <td>2014-09-15 09:44:39</td>\n",
       "      <td>NaN</td>\n",
       "      <td>NaN</td>\n",
       "      <td>1414277370ad36354f67b7b833c2e225</td>\n",
       "    </tr>\n",
       "    <tr>\n",
       "      <th>562775</th>\n",
       "      <td>201409</td>\n",
       "      <td>15</td>\n",
       "      <td>2014-09-15 13:57:53</td>\n",
       "      <td>2014-09-15 14:01:26</td>\n",
       "      <td>NaN</td>\n",
       "      <td>NaN</td>\n",
       "      <td>1414277370ad36354f67b7b833c2e225</td>\n",
       "    </tr>\n",
       "    <tr>\n",
       "      <th>562776</th>\n",
       "      <td>201409</td>\n",
       "      <td>15</td>\n",
       "      <td>2014-09-15 06:48:47</td>\n",
       "      <td>2014-09-15 06:49:31</td>\n",
       "      <td>NaN</td>\n",
       "      <td>NaN</td>\n",
       "      <td>1414277370ad36354f67b7b833c2e225</td>\n",
       "    </tr>\n",
       "    <tr>\n",
       "      <th>562777</th>\n",
       "      <td>201409</td>\n",
       "      <td>15</td>\n",
       "      <td>2014-09-15 07:27:02</td>\n",
       "      <td>2014-09-15 07:27:19</td>\n",
       "      <td>NaN</td>\n",
       "      <td>NaN</td>\n",
       "      <td>1414277370ad36354f67b7b833c2e225</td>\n",
       "    </tr>\n",
       "    <tr>\n",
       "      <th>562778</th>\n",
       "      <td>201409</td>\n",
       "      <td>15</td>\n",
       "      <td>2014-09-15 07:25:47</td>\n",
       "      <td>2014-09-15 07:26:08</td>\n",
       "      <td>NaN</td>\n",
       "      <td>NaN</td>\n",
       "      <td>1414277370ad36354f67b7b833c2e225</td>\n",
       "    </tr>\n",
       "  </tbody>\n",
       "</table>\n",
       "<p>6952921 rows × 7 columns</p>\n",
       "</div>"
      ],
      "text/plain": [
       "         month  date          start time            end time  latitude  \\\n",
       "0       201410     1 2014-10-01 13:30:00 2014-10-01 13:40:11       NaN   \n",
       "1       201410     1 2014-10-01 09:22:09 2014-10-01 12:20:24       NaN   \n",
       "2       201410     1 2014-10-01 17:35:07 2014-10-01 17:35:47       NaN   \n",
       "3       201410     1 2014-10-01 14:07:43 2014-10-01 17:00:35       NaN   \n",
       "4       201410     1 2014-10-01 17:10:14 2014-10-01 17:20:27       NaN   \n",
       "...        ...   ...                 ...                 ...       ...   \n",
       "562774  201409    15 2014-09-15 09:42:44 2014-09-15 09:44:39       NaN   \n",
       "562775  201409    15 2014-09-15 13:57:53 2014-09-15 14:01:26       NaN   \n",
       "562776  201409    15 2014-09-15 06:48:47 2014-09-15 06:49:31       NaN   \n",
       "562777  201409    15 2014-09-15 07:27:02 2014-09-15 07:27:19       NaN   \n",
       "562778  201409    15 2014-09-15 07:25:47 2014-09-15 07:26:08       NaN   \n",
       "\n",
       "        longitude                           user id  \n",
       "0             NaN  c25cda01110b1879b78af0281fa93704  \n",
       "1             NaN  1f36736faf2ad3362b1803ddf9552646  \n",
       "2             NaN  c25cda01110b1879b78af0281fa93704  \n",
       "3             NaN  c25cda01110b1879b78af0281fa93704  \n",
       "4             NaN  c25cda01110b1879b78af0281fa93704  \n",
       "...           ...                               ...  \n",
       "562774        NaN  1414277370ad36354f67b7b833c2e225  \n",
       "562775        NaN  1414277370ad36354f67b7b833c2e225  \n",
       "562776        NaN  1414277370ad36354f67b7b833c2e225  \n",
       "562777        NaN  1414277370ad36354f67b7b833c2e225  \n",
       "562778        NaN  1414277370ad36354f67b7b833c2e225  \n",
       "\n",
       "[6952921 rows x 7 columns]"
      ]
     },
     "execution_count": 5,
     "metadata": {},
     "output_type": "execute_result"
    }
   ],
   "source": [
    "pd_record"
   ]
  },
  {
   "cell_type": "markdown",
   "metadata": {},
   "source": [
    "## All"
   ]
  },
  {
   "cell_type": "code",
   "execution_count": 6,
   "metadata": {},
   "outputs": [],
   "source": [
    "pd_record_all = pd_record.dropna()"
   ]
  },
  {
   "cell_type": "code",
   "execution_count": 7,
   "metadata": {},
   "outputs": [
    {
     "name": "stderr",
     "output_type": "stream",
     "text": [
      "C:\\Users\\igh_8\\AppData\\Local\\Temp\\ipykernel_6968\\218630576.py:1: SettingWithCopyWarning: \n",
      "A value is trying to be set on a copy of a slice from a DataFrame.\n",
      "Try using .loc[row_indexer,col_indexer] = value instead\n",
      "\n",
      "See the caveats in the documentation: https://pandas.pydata.org/pandas-docs/stable/user_guide/indexing.html#returning-a-view-versus-a-copy\n",
      "  pd_record_all['address'] = pd_record_all.apply(lambda x: str(x['latitude']) + '-' + str(x['longitude']), axis=1)\n"
     ]
    }
   ],
   "source": [
    "pd_record_all['address'] = pd_record_all.apply(lambda x: str(x['latitude']) + '-' + str(x['longitude']), axis=1)"
   ]
  },
  {
   "cell_type": "code",
   "execution_count": 8,
   "metadata": {},
   "outputs": [],
   "source": [
    "pd_record_all.to_csv(f'./dataset/data_all.csv')"
   ]
  },
  {
   "cell_type": "code",
   "execution_count": 9,
   "metadata": {},
   "outputs": [],
   "source": [
    "base_stations = pd_record_all[['latitude', 'longitude', 'address']].drop_duplicates()"
   ]
  },
  {
   "cell_type": "code",
   "execution_count": 10,
   "metadata": {},
   "outputs": [
    {
     "data": {
      "text/html": [
       "<div>\n",
       "<style scoped>\n",
       "    .dataframe tbody tr th:only-of-type {\n",
       "        vertical-align: middle;\n",
       "    }\n",
       "\n",
       "    .dataframe tbody tr th {\n",
       "        vertical-align: top;\n",
       "    }\n",
       "\n",
       "    .dataframe thead th {\n",
       "        text-align: right;\n",
       "    }\n",
       "</style>\n",
       "<table border=\"1\" class=\"dataframe\">\n",
       "  <thead>\n",
       "    <tr style=\"text-align: right;\">\n",
       "      <th></th>\n",
       "      <th>latitude</th>\n",
       "      <th>longitude</th>\n",
       "      <th>address</th>\n",
       "      <th>id</th>\n",
       "    </tr>\n",
       "  </thead>\n",
       "  <tbody>\n",
       "    <tr>\n",
       "      <th>0</th>\n",
       "      <td>31.237872</td>\n",
       "      <td>121.470259</td>\n",
       "      <td>31.237872-121.470259</td>\n",
       "      <td>0</td>\n",
       "    </tr>\n",
       "    <tr>\n",
       "      <th>1</th>\n",
       "      <td>31.246946</td>\n",
       "      <td>121.513919</td>\n",
       "      <td>31.246946-121.513919</td>\n",
       "      <td>1</td>\n",
       "    </tr>\n",
       "    <tr>\n",
       "      <th>2</th>\n",
       "      <td>31.232877</td>\n",
       "      <td>121.487530</td>\n",
       "      <td>31.232877-121.48753</td>\n",
       "      <td>2</td>\n",
       "    </tr>\n",
       "    <tr>\n",
       "      <th>3</th>\n",
       "      <td>31.232548</td>\n",
       "      <td>121.478971</td>\n",
       "      <td>31.232548-121.478971</td>\n",
       "      <td>3</td>\n",
       "    </tr>\n",
       "    <tr>\n",
       "      <th>4</th>\n",
       "      <td>31.227933</td>\n",
       "      <td>121.453610</td>\n",
       "      <td>31.227933-121.45361</td>\n",
       "      <td>4</td>\n",
       "    </tr>\n",
       "    <tr>\n",
       "      <th>...</th>\n",
       "      <td>...</td>\n",
       "      <td>...</td>\n",
       "      <td>...</td>\n",
       "      <td>...</td>\n",
       "    </tr>\n",
       "    <tr>\n",
       "      <th>3037</th>\n",
       "      <td>31.199450</td>\n",
       "      <td>121.434169</td>\n",
       "      <td>31.19945-121.434169</td>\n",
       "      <td>3037</td>\n",
       "    </tr>\n",
       "    <tr>\n",
       "      <th>3038</th>\n",
       "      <td>31.224268</td>\n",
       "      <td>121.482064</td>\n",
       "      <td>31.224268-121.482064</td>\n",
       "      <td>3038</td>\n",
       "    </tr>\n",
       "    <tr>\n",
       "      <th>3039</th>\n",
       "      <td>31.218517</td>\n",
       "      <td>121.477878</td>\n",
       "      <td>31.218517-121.477878</td>\n",
       "      <td>3039</td>\n",
       "    </tr>\n",
       "    <tr>\n",
       "      <th>3040</th>\n",
       "      <td>31.202376</td>\n",
       "      <td>121.434660</td>\n",
       "      <td>31.202376-121.43466</td>\n",
       "      <td>3040</td>\n",
       "    </tr>\n",
       "    <tr>\n",
       "      <th>3041</th>\n",
       "      <td>31.405917</td>\n",
       "      <td>121.474805</td>\n",
       "      <td>31.405917-121.474805</td>\n",
       "      <td>3041</td>\n",
       "    </tr>\n",
       "  </tbody>\n",
       "</table>\n",
       "<p>3042 rows × 4 columns</p>\n",
       "</div>"
      ],
      "text/plain": [
       "       latitude   longitude               address    id\n",
       "0     31.237872  121.470259  31.237872-121.470259     0\n",
       "1     31.246946  121.513919  31.246946-121.513919     1\n",
       "2     31.232877  121.487530   31.232877-121.48753     2\n",
       "3     31.232548  121.478971  31.232548-121.478971     3\n",
       "4     31.227933  121.453610   31.227933-121.45361     4\n",
       "...         ...         ...                   ...   ...\n",
       "3037  31.199450  121.434169   31.19945-121.434169  3037\n",
       "3038  31.224268  121.482064  31.224268-121.482064  3038\n",
       "3039  31.218517  121.477878  31.218517-121.477878  3039\n",
       "3040  31.202376  121.434660   31.202376-121.43466  3040\n",
       "3041  31.405917  121.474805  31.405917-121.474805  3041\n",
       "\n",
       "[3042 rows x 4 columns]"
      ]
     },
     "execution_count": 10,
     "metadata": {},
     "output_type": "execute_result"
    }
   ],
   "source": [
    "base_stations = base_stations.reset_index()\n",
    "base_stations['id'] = base_stations.index\n",
    "base_stations.drop(['index'], axis=1)"
   ]
  },
  {
   "cell_type": "code",
   "execution_count": 11,
   "metadata": {},
   "outputs": [],
   "source": [
    "base_stations.to_csv('./dataset/base_stations_all.csv')"
   ]
  },
  {
   "cell_type": "markdown",
   "metadata": {},
   "source": [
    "## Min"
   ]
  },
  {
   "cell_type": "code",
   "execution_count": 12,
   "metadata": {},
   "outputs": [],
   "source": [
    "pd_record_min =  pd_records_list[0]"
   ]
  },
  {
   "cell_type": "code",
   "execution_count": 13,
   "metadata": {},
   "outputs": [
    {
     "name": "stderr",
     "output_type": "stream",
     "text": [
      "C:\\Users\\igh_8\\AppData\\Local\\Temp\\ipykernel_6968\\1641723281.py:2: SettingWithCopyWarning: \n",
      "A value is trying to be set on a copy of a slice from a DataFrame.\n",
      "Try using .loc[row_indexer,col_indexer] = value instead\n",
      "\n",
      "See the caveats in the documentation: https://pandas.pydata.org/pandas-docs/stable/user_guide/indexing.html#returning-a-view-versus-a-copy\n",
      "  pd_record_min['address'] = pd_record_min.apply(lambda x: str(x['latitude']) + '-' + str(x['longitude']), axis=1)\n"
     ]
    }
   ],
   "source": [
    "pd_record_min = pd_record_min.dropna()\n",
    "pd_record_min['address'] = pd_record_min.apply(lambda x: str(x['latitude']) + '-' + str(x['longitude']), axis=1)\n",
    "pd_record_min.to_csv(f'./dataset/data_min.csv')"
   ]
  },
  {
   "cell_type": "code",
   "execution_count": 14,
   "metadata": {},
   "outputs": [],
   "source": [
    "base_stations_min = pd_record_min[['latitude', 'longitude', 'address']].drop_duplicates()"
   ]
  },
  {
   "cell_type": "code",
   "execution_count": 15,
   "metadata": {},
   "outputs": [
    {
     "data": {
      "text/html": [
       "<div>\n",
       "<style scoped>\n",
       "    .dataframe tbody tr th:only-of-type {\n",
       "        vertical-align: middle;\n",
       "    }\n",
       "\n",
       "    .dataframe tbody tr th {\n",
       "        vertical-align: top;\n",
       "    }\n",
       "\n",
       "    .dataframe thead th {\n",
       "        text-align: right;\n",
       "    }\n",
       "</style>\n",
       "<table border=\"1\" class=\"dataframe\">\n",
       "  <thead>\n",
       "    <tr style=\"text-align: right;\">\n",
       "      <th></th>\n",
       "      <th>latitude</th>\n",
       "      <th>longitude</th>\n",
       "      <th>address</th>\n",
       "      <th>id</th>\n",
       "    </tr>\n",
       "  </thead>\n",
       "  <tbody>\n",
       "    <tr>\n",
       "      <th>0</th>\n",
       "      <td>31.237872</td>\n",
       "      <td>121.470259</td>\n",
       "      <td>31.237872-121.470259</td>\n",
       "      <td>0</td>\n",
       "    </tr>\n",
       "    <tr>\n",
       "      <th>1</th>\n",
       "      <td>31.246946</td>\n",
       "      <td>121.513919</td>\n",
       "      <td>31.246946-121.513919</td>\n",
       "      <td>1</td>\n",
       "    </tr>\n",
       "    <tr>\n",
       "      <th>2</th>\n",
       "      <td>31.232877</td>\n",
       "      <td>121.487530</td>\n",
       "      <td>31.232877-121.48753</td>\n",
       "      <td>2</td>\n",
       "    </tr>\n",
       "    <tr>\n",
       "      <th>3</th>\n",
       "      <td>31.232548</td>\n",
       "      <td>121.478971</td>\n",
       "      <td>31.232548-121.478971</td>\n",
       "      <td>3</td>\n",
       "    </tr>\n",
       "    <tr>\n",
       "      <th>4</th>\n",
       "      <td>31.227933</td>\n",
       "      <td>121.453610</td>\n",
       "      <td>31.227933-121.45361</td>\n",
       "      <td>4</td>\n",
       "    </tr>\n",
       "    <tr>\n",
       "      <th>...</th>\n",
       "      <td>...</td>\n",
       "      <td>...</td>\n",
       "      <td>...</td>\n",
       "      <td>...</td>\n",
       "    </tr>\n",
       "    <tr>\n",
       "      <th>2619</th>\n",
       "      <td>31.254745</td>\n",
       "      <td>121.556081</td>\n",
       "      <td>31.254745-121.556081</td>\n",
       "      <td>2619</td>\n",
       "    </tr>\n",
       "    <tr>\n",
       "      <th>2620</th>\n",
       "      <td>31.216651</td>\n",
       "      <td>121.604749</td>\n",
       "      <td>31.216651-121.604749</td>\n",
       "      <td>2620</td>\n",
       "    </tr>\n",
       "    <tr>\n",
       "      <th>2621</th>\n",
       "      <td>31.191178</td>\n",
       "      <td>121.466480</td>\n",
       "      <td>31.191178-121.46648</td>\n",
       "      <td>2621</td>\n",
       "    </tr>\n",
       "    <tr>\n",
       "      <th>2622</th>\n",
       "      <td>31.295646</td>\n",
       "      <td>121.498045</td>\n",
       "      <td>31.295646-121.498045</td>\n",
       "      <td>2622</td>\n",
       "    </tr>\n",
       "    <tr>\n",
       "      <th>2623</th>\n",
       "      <td>31.307814</td>\n",
       "      <td>121.504168</td>\n",
       "      <td>31.307814-121.504168</td>\n",
       "      <td>2623</td>\n",
       "    </tr>\n",
       "  </tbody>\n",
       "</table>\n",
       "<p>2624 rows × 4 columns</p>\n",
       "</div>"
      ],
      "text/plain": [
       "       latitude   longitude               address    id\n",
       "0     31.237872  121.470259  31.237872-121.470259     0\n",
       "1     31.246946  121.513919  31.246946-121.513919     1\n",
       "2     31.232877  121.487530   31.232877-121.48753     2\n",
       "3     31.232548  121.478971  31.232548-121.478971     3\n",
       "4     31.227933  121.453610   31.227933-121.45361     4\n",
       "...         ...         ...                   ...   ...\n",
       "2619  31.254745  121.556081  31.254745-121.556081  2619\n",
       "2620  31.216651  121.604749  31.216651-121.604749  2620\n",
       "2621  31.191178  121.466480   31.191178-121.46648  2621\n",
       "2622  31.295646  121.498045  31.295646-121.498045  2622\n",
       "2623  31.307814  121.504168  31.307814-121.504168  2623\n",
       "\n",
       "[2624 rows x 4 columns]"
      ]
     },
     "execution_count": 15,
     "metadata": {},
     "output_type": "execute_result"
    }
   ],
   "source": [
    "base_stations_min = base_stations_min.reset_index()\n",
    "base_stations_min['id'] = base_stations_min.index\n",
    "base_stations_min.drop(['index'], axis=1)"
   ]
  },
  {
   "cell_type": "code",
   "execution_count": 16,
   "metadata": {},
   "outputs": [],
   "source": [
    "base_stations_min.to_csv('./dataset/base_stations_min.csv')"
   ]
  }
 ],
 "metadata": {
  "interpreter": {
   "hash": "fe245b48eec612fbee62cf5f1e4a377bd40a15fc2ce06ad16b3622723b03fe09"
  },
  "kernelspec": {
   "display_name": "Python 3.9.7 ('torch')",
   "language": "python",
   "name": "python3"
  },
  "language_info": {
   "codemirror_mode": {
    "name": "ipython",
    "version": 3
   },
   "file_extension": ".py",
   "mimetype": "text/x-python",
   "name": "python",
   "nbconvert_exporter": "python",
   "pygments_lexer": "ipython3",
   "version": "3.12.0"
  },
  "orig_nbformat": 4
 },
 "nbformat": 4,
 "nbformat_minor": 2
}
